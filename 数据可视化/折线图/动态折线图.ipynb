{
 "cells": [
  {
   "cell_type": "markdown",
   "metadata": {},
   "source": [
    "# 动态折线图"
   ]
  },
  {
   "cell_type": "markdown",
   "metadata": {},
   "source": [
    "\n",
    "### 1. 初始设置\n",
    "\n",
    "首先，导入所需的库，并设置中文字体等。"
   ]
  },
  {
   "cell_type": "code",
   "execution_count": 1,
   "metadata": {},
   "outputs": [],
   "source": [
    "# 导入所需的库\n",
    "import os\n",
    "import numpy as np\n",
    "import pandas as pd\n",
    "import matplotlib as mpl\n",
    "import matplotlib.pyplot as plt\n",
    "import matplotlib.ticker as ticker \n",
    "import matplotlib.animation as animation\n",
    "import datetime\n",
    "from IPython.display import HTML\n",
    "\n",
    "# 正常显示中文标签\n",
    "mpl.rcParams['font.sans-serif'] = ['SimHei']\n",
    "\n",
    "# 自动适应布局\n",
    "mpl.rcParams.update({'figure.autolayout': True})\n",
    "\n",
    "# 正常显示负号\n",
    "mpl.rcParams['axes.unicode_minus'] = False\n",
    "\n",
    "# 让网格线显示在下方\n",
    "mpl.rc('axes', axisbelow=True)\n",
    "\n",
    "# 禁用科学计数法\n",
    "pd.set_option('display.float_format', lambda x: '%.2f' % x) \n",
    "\n",
    "# 定义颜色，主色：蓝色，辅助色：灰色，互补色：橙色\n",
    "c = {'蓝色':'#00589F', '深蓝色':'#003867', '浅蓝色':'#5D9BCF',\n",
    "     '灰色':'#999999', '深灰色':'#666666', '浅灰色':'#CCCCCC',\n",
    "     '橙色':'#F68F00', '深橙色':'#A05D00', '浅橙色':'#FBC171'}\n",
    "\n",
    "# 防止动态图显示不完整\n",
    "plt.rcParams['animation.embed_limit'] = 1e100"
   ]
  },
  {
   "cell_type": "markdown",
   "metadata": {},
   "source": [
    "### 2. 定义数据"
   ]
  },
  {
   "cell_type": "code",
   "execution_count": 2,
   "metadata": {},
   "outputs": [],
   "source": [
    "# # 当需要更新数据时，去掉注释后运行一次\n",
    "# import akshare as ak\n",
    "\n",
    "# # 从 akshare 获取历史数据，速度比较慢\n",
    "# df_all_history = ak.covid_19_history()\n",
    "\n",
    "# # 保存到 Excel 文件中，以便下次快速读取数据\n",
    "# df_all_history.to_excel('./data/covid_19_history_20200711.xlsx')"
   ]
  },
  {
   "cell_type": "code",
   "execution_count": 3,
   "metadata": {},
   "outputs": [],
   "source": [
    "# 定义想要展示的国家\n",
    "countries = ['中国', '美国']\n",
    "\n",
    "# 从 Excel 文件中读取数据\n",
    "df_all = pd.read_excel('./data/covid_19_history_20200711.xlsx', index_col=0).fillna('')\n",
    "\n",
    "# 将字符串格式的日期转换为日期格式\n",
    "df_all['date'] = pd.to_datetime(df_all['date'])\n",
    "\n",
    "# 将时间格式转为字符串格式的日期，以 YYYY-mm-dd 的形式保存到另外一列\n",
    "df_all['dates'] = df_all['date'].apply(lambda x:x.strftime('%Y-%m-%d'))\n",
    "\n",
    "# 添加现存确诊列\n",
    "df_all['current'] = df_all['confirmed'] - df_all['cured'] - df_all['dead']\n",
    "\n",
    "# 排除省份的数据，只保留国家的数据，设置日期为索引\n",
    "dfc = df_all.query(\"province==''\").set_index('date')\n",
    "\n",
    "# 对应每个国家的序号\n",
    "n_list = [i for i in range(len(countries))]\n",
    "\n",
    "# 以字典的方式存放每个国家的数据\n",
    "dic = {}\n",
    "for country_i in countries:\n",
    "    dfi = dfc.query(\"country==@country_i\")\n",
    "    dfi = dfi.sort_index(ascending=True)\n",
    "    dic[country_i] = dfi\n",
    "\n",
    "# 计算最大的确诊人数\n",
    "y_max = 0\n",
    "for country_i in countries:\n",
    "    y_max_i = dic[country_i]['confirmed'].max()\n",
    "    y_max = max(y_max, y_max_i)\n",
    "\n",
    "# 合并两个国家的确诊人数\n",
    "df1 = pd.concat([dic[countries[0]].confirmed, dic[countries[1]].confirmed], axis=1)\n",
    "df1.columns = [countries[0], countries[1]]\n",
    "df1 = df1.fillna(0)\n",
    "\n",
    "# 总天数\n",
    "length = df1.shape[0] + 1"
   ]
  },
  {
   "cell_type": "markdown",
   "metadata": {},
   "source": [
    "### 3. 开始画图\n",
    "\n",
    "用「**面向对象**」的方法画图。"
   ]
  },
  {
   "cell_type": "code",
   "execution_count": 4,
   "metadata": {},
   "outputs": [
    {
     "data": {
      "image/png": "[encoded data removed]",
      "text/plain": [
       "<Figure size 720x576 with 1 Axes>"
      ]
     },
     "metadata": {},
     "output_type": "display_data"
    }
   ],
   "source": [
    "# 使用「面向对象」的方法画图，定义图片的大小\n",
    "fig, ax = plt.subplots(figsize=(10, 8))\n",
    "\n",
    "# 设置背景颜色\n",
    "fig.set_facecolor('w')\n",
    "ax.set_facecolor('w')\n",
    "\n",
    "# 隐藏边框\n",
    "ax.spines['top'].set_visible(False)\n",
    "ax.spines['bottom'].set_visible(False)\n",
    "ax.spines['left'].set_visible(False)\n",
    "ax.spines['right'].set_visible(False)\n",
    "\n",
    "# 隐藏刻度线\n",
    "ax.tick_params(axis='x', which='major', length=0)\n",
    "ax.tick_params(axis='y', which='major', length=0)\n",
    "\n",
    "# 设置坐标标签字体大小和颜色\n",
    "ax.tick_params(labelsize=16, colors=c['深灰色'])\n",
    "\n",
    "# 定义动画函数\n",
    "def animate(num): \n",
    "    # 先清空画面\n",
    "    ax.clear()\n",
    "    \n",
    "    # 动态显示新的数据\n",
    "    df_temp = df1.iloc[0:num, :]\n",
    "    idx = df_temp.index\n",
    "\n",
    "    # 绘制第一个国家的折线图\n",
    "    ax.plot(idx, df_temp[countries[0]], color=c['蓝色'], linewidth=3, zorder=2)\n",
    "    string = '★'+countries[0]+str(df_temp[countries[0]][-1])\n",
    "    ax.text(idx[-1], df_temp[countries[0]][-1], string, size=20, ha='left', va='center', color=c['蓝色'])\n",
    "    \n",
    "    # 绘制第二个国家的折线图\n",
    "    ax.plot(idx, df_temp[countries[1]], color=c['橙色'], linewidth=3, zorder=2)\n",
    "    string = '●'+countries[1]+str(int(df_temp[countries[1]][-1]))\n",
    "    ax.text(idx[-1], df_temp[countries[1]][-1], string, size=20, ha='left', va='bottom', color=c['橙色'])\n",
    "\n",
    "    # 设置标题\n",
    "    ax.set_title('\\n新冠病毒确诊人数的变化趋势\\n', loc='left', fontsize=26)\n",
    "    \n",
    "    # 图片背景显示日期的动态变化\n",
    "    ymean = (ax.get_ylim()[0] + ax.get_ylim()[1]) / 2\n",
    "    string = (df1.index[0]+datetime.timedelta(days=int(num-1))).strftime('%Y年%m月%d日')\n",
    "    ax.text(df1.index[0], ymean, string, ha='left', va='center', fontsize=90, color=c['灰色'], zorder=-1, alpha=0.2)\n",
    "    \n",
    "    # 设置 X 轴坐标范围\n",
    "    ax.set_xlim(df1.index[0]+datetime.timedelta(days=-5), df1.index[-1]+datetime.timedelta(days=5))\n",
    "    # ax.set_xticks(ticks=[df1.index[0]] + [df1.index[int(length/2)]] + [df1.index[-1]])\n",
    "    ax.set_xticklabels([])\n",
    "    \n",
    "    # 设置 Y 轴坐标范围\n",
    "    ax.set_ylim(0, df1.iloc[0:num,:].values.max()*1.2)\n",
    "    ax.set_yticklabels([])\n",
    "    \n",
    "# 绘制动画\n",
    "animator = animation.FuncAnimation(fig, animate, frames=np.arange(1, length, 1), interval=100)\n",
    "\n",
    "# 在 Jupyter Notebook 中显示动画\n",
    "# HTML(animator.to_jshtml())\n",
    "\n",
    "# 保存为 mp4 的文件格式\n",
    "animator.save('动态折线图.mp4')"
   ]
  },
  {
   "cell_type": "markdown",
   "metadata": {},
   "source": [
    " "
   ]
  }
 ],
 "metadata": {
  "kernelspec": {
   "display_name": "Python 3",
   "language": "python",
   "name": "python3"
  },
  "language_info": {
   "codemirror_mode": {
    "name": "ipython",
    "version": 3
   },
   "file_extension": ".py",
   "mimetype": "text/x-python",
   "name": "python",
   "nbconvert_exporter": "python",
   "pygments_lexer": "ipython3",
   "version": "3.8.5"
  }
 },
 "nbformat": 4,
 "nbformat_minor": 4
}
